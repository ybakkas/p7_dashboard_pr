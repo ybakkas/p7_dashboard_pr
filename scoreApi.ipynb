{
 "cells": [
  {
   "cell_type": "code",
   "execution_count": null,
   "metadata": {},
   "outputs": [
    {
     "name": "stdout",
     "output_type": "stream",
     "text": [
      " * Serving Flask app \"__main__\" (lazy loading)\n",
      " * Environment: production\n",
      "   WARNING: This is a development server. Do not use it in a production deployment.\n",
      "   Use a production WSGI server instead.\n",
      " * Debug mode: on\n"
     ]
    },
    {
     "name": "stderr",
     "output_type": "stream",
     "text": [
      " * Running on http://127.0.0.1:5000/ (Press CTRL+C to quit)\n",
      "127.0.0.1 - - [03/Dec/2020 11:44:08] \"\u001b[37mGET /api/score/ HTTP/1.1\u001b[0m\" 200 -\n",
      "127.0.0.1 - - [03/Dec/2020 11:47:12] \"\u001b[37mGET /api/score/ HTTP/1.1\u001b[0m\" 200 -\n",
      "127.0.0.1 - - [03/Dec/2020 11:50:30] \"\u001b[37mGET /api/score/ HTTP/1.1\u001b[0m\" 200 -\n",
      "127.0.0.1 - - [03/Dec/2020 11:54:07] \"\u001b[37mGET /api/score/ HTTP/1.1\u001b[0m\" 200 -\n",
      "127.0.0.1 - - [03/Dec/2020 11:55:39] \"\u001b[37mGET /api/score/ HTTP/1.1\u001b[0m\" 200 -\n",
      "127.0.0.1 - - [03/Dec/2020 12:02:51] \"\u001b[37mGET /api/score/ HTTP/1.1\u001b[0m\" 200 -\n",
      "127.0.0.1 - - [03/Dec/2020 12:05:15] \"\u001b[37mGET /api/score/ HTTP/1.1\u001b[0m\" 200 -\n",
      "127.0.0.1 - - [03/Dec/2020 12:08:19] \"\u001b[37mGET /api/score/ HTTP/1.1\u001b[0m\" 200 -\n",
      "127.0.0.1 - - [03/Dec/2020 12:14:59] \"\u001b[37mGET /api/score/ HTTP/1.1\u001b[0m\" 200 -\n",
      "127.0.0.1 - - [03/Dec/2020 12:16:08] \"\u001b[37mGET /api/score/ HTTP/1.1\u001b[0m\" 200 -\n",
      "127.0.0.1 - - [03/Dec/2020 12:18:37] \"\u001b[37mGET /api/score/ HTTP/1.1\u001b[0m\" 200 -\n",
      "127.0.0.1 - - [03/Dec/2020 12:19:23] \"\u001b[37mGET /api/score/ HTTP/1.1\u001b[0m\" 200 -\n",
      "127.0.0.1 - - [03/Dec/2020 12:20:07] \"\u001b[37mGET /api/score/ HTTP/1.1\u001b[0m\" 200 -\n",
      "127.0.0.1 - - [03/Dec/2020 12:22:40] \"\u001b[37mGET /api/score/ HTTP/1.1\u001b[0m\" 200 -\n",
      "127.0.0.1 - - [03/Dec/2020 12:25:25] \"\u001b[37mGET /api/score/ HTTP/1.1\u001b[0m\" 200 -\n",
      "127.0.0.1 - - [03/Dec/2020 12:28:31] \"\u001b[37mGET /api/score/ HTTP/1.1\u001b[0m\" 200 -\n",
      "127.0.0.1 - - [03/Dec/2020 12:29:53] \"\u001b[37mGET /api/score/ HTTP/1.1\u001b[0m\" 200 -\n",
      "127.0.0.1 - - [03/Dec/2020 12:32:18] \"\u001b[37mGET /api/score/ HTTP/1.1\u001b[0m\" 200 -\n",
      "127.0.0.1 - - [03/Dec/2020 12:33:11] \"\u001b[37mGET /api/score/ HTTP/1.1\u001b[0m\" 200 -\n",
      "127.0.0.1 - - [03/Dec/2020 12:33:49] \"\u001b[37mGET /api/score/ HTTP/1.1\u001b[0m\" 200 -\n",
      "127.0.0.1 - - [03/Dec/2020 12:34:28] \"\u001b[37mGET /api/score/ HTTP/1.1\u001b[0m\" 200 -\n",
      "127.0.0.1 - - [03/Dec/2020 12:34:56] \"\u001b[37mGET /api/score/ HTTP/1.1\u001b[0m\" 200 -\n",
      "127.0.0.1 - - [03/Dec/2020 12:38:17] \"\u001b[37mGET /api/score/ HTTP/1.1\u001b[0m\" 200 -\n",
      "127.0.0.1 - - [03/Dec/2020 12:41:32] \"\u001b[37mGET /api/score/ HTTP/1.1\u001b[0m\" 200 -\n",
      "127.0.0.1 - - [03/Dec/2020 12:42:29] \"\u001b[37mGET /api/score/ HTTP/1.1\u001b[0m\" 200 -\n",
      "127.0.0.1 - - [03/Dec/2020 12:43:26] \"\u001b[37mGET /api/score/ HTTP/1.1\u001b[0m\" 200 -\n",
      "127.0.0.1 - - [03/Dec/2020 12:44:05] \"\u001b[37mGET /api/score/ HTTP/1.1\u001b[0m\" 200 -\n",
      "127.0.0.1 - - [03/Dec/2020 12:45:02] \"\u001b[37mGET /api/score/ HTTP/1.1\u001b[0m\" 200 -\n",
      "127.0.0.1 - - [03/Dec/2020 12:48:29] \"\u001b[37mGET /api/score/ HTTP/1.1\u001b[0m\" 200 -\n",
      "127.0.0.1 - - [03/Dec/2020 12:49:57] \"\u001b[37mGET /api/score/ HTTP/1.1\u001b[0m\" 200 -\n",
      "127.0.0.1 - - [03/Dec/2020 12:54:50] \"\u001b[37mGET /api/score/ HTTP/1.1\u001b[0m\" 200 -\n",
      "127.0.0.1 - - [03/Dec/2020 12:56:22] \"\u001b[37mGET /api/score/ HTTP/1.1\u001b[0m\" 200 -\n",
      "127.0.0.1 - - [03/Dec/2020 13:02:38] \"\u001b[37mGET /api/score/ HTTP/1.1\u001b[0m\" 200 -\n",
      "127.0.0.1 - - [03/Dec/2020 13:04:39] \"\u001b[37mGET /api/score/ HTTP/1.1\u001b[0m\" 200 -\n",
      "127.0.0.1 - - [03/Dec/2020 13:05:20] \"\u001b[37mGET /api/score/ HTTP/1.1\u001b[0m\" 200 -\n",
      "127.0.0.1 - - [03/Dec/2020 13:15:07] \"\u001b[37mGET /api/score/ HTTP/1.1\u001b[0m\" 200 -\n",
      "127.0.0.1 - - [03/Dec/2020 13:16:29] \"\u001b[37mGET /api/score/ HTTP/1.1\u001b[0m\" 200 -\n",
      "127.0.0.1 - - [03/Dec/2020 13:17:02] \"\u001b[37mGET /api/score/ HTTP/1.1\u001b[0m\" 200 -\n",
      "127.0.0.1 - - [03/Dec/2020 13:18:03] \"\u001b[37mGET /api/score/ HTTP/1.1\u001b[0m\" 200 -\n"
     ]
    }
   ],
   "source": [
    "from flask import Flask, render_template, jsonify\n",
    "import pandas as pd\n",
    "import numpy as np\n",
    "from pickle import load\n",
    "\n",
    "scoreApi = Flask(__name__)\n",
    "best_thresh = 0.000971\n",
    "finalModelP7 = load(open('../finalModelP7.sav', 'rb'))\n",
    "X_test_scaled = load(open('../X_test_scaled.sav', 'rb'))\n",
    "\n",
    "@scoreApi.route('/api/score/')\n",
    "def score():\n",
    "    y_predict_proba = finalModelP7.predict_proba(X_test_scaled)\n",
    "    class_predict = np.where(y_predict_proba[:, 1]>best_thresh, 1, 0)\n",
    "    df_scores = pd.DataFrame(y_predict_proba[:, 1],columns=['proba'])\n",
    "    df_scores['class'] = class_predict\n",
    "    return df_scores.to_json(date_format='iso', orient='split')\n",
    "\n",
    "if __name__ == \"__main__\":\n",
    "    scoreApi.run(debug=True, use_reloader=False)"
   ]
  },
  {
   "cell_type": "code",
   "execution_count": 8,
   "metadata": {},
   "outputs": [
    {
     "data": {
      "text/plain": [
       "array([[-1.38294919, -1.2767797 ,  1.43049517, ...,  0.        ,\n",
       "         0.        , -0.70153785],\n",
       "       [-0.70489944, -1.2767797 , -0.69905863, ...,  0.        ,\n",
       "         0.        , -1.55422669],\n",
       "       [ 1.15795673,  0.78322047, -0.69905863, ...,  0.        ,\n",
       "         0.        ,  0.04562251],\n",
       "       ...,\n",
       "       [ 1.62710034, -1.2767797 ,  1.43049517, ...,  0.        ,\n",
       "         0.        ,  0.04562251],\n",
       "       [ 0.45224601,  0.78322047,  1.43049517, ...,  0.        ,\n",
       "         0.        ,  0.04562251],\n",
       "       [-1.46201955,  0.78322047, -0.69905863, ...,  0.        ,\n",
       "         0.        , -1.72476446]])"
      ]
     },
     "execution_count": 8,
     "metadata": {},
     "output_type": "execute_result"
    }
   ],
   "source": [
    "X_test_scaled"
   ]
  },
  {
   "cell_type": "code",
   "execution_count": 9,
   "metadata": {},
   "outputs": [
    {
     "data": {
      "text/plain": [
       "LGBMClassifier(bagging_freq=10, colsample_bytree=0.9, learning_rate=0.02,\n",
       "               min_data_in_leaf=100, min_split_gain=0.02, n_estimators=10000,\n",
       "               num_leaves=32, objective='binary', random_state=0,\n",
       "               reg_alpha=0.04, reg_lambda=0.07, save_binary=True,\n",
       "               subsample=0.8)"
      ]
     },
     "execution_count": 9,
     "metadata": {},
     "output_type": "execute_result"
    }
   ],
   "source": [
    "finalModelP7"
   ]
  },
  {
   "cell_type": "code",
   "execution_count": 10,
   "metadata": {},
   "outputs": [
    {
     "data": {
      "text/html": [
       "<div>\n",
       "<style scoped>\n",
       "    .dataframe tbody tr th:only-of-type {\n",
       "        vertical-align: middle;\n",
       "    }\n",
       "\n",
       "    .dataframe tbody tr th {\n",
       "        vertical-align: top;\n",
       "    }\n",
       "\n",
       "    .dataframe thead th {\n",
       "        text-align: right;\n",
       "    }\n",
       "</style>\n",
       "<table border=\"1\" class=\"dataframe\">\n",
       "  <thead>\n",
       "    <tr style=\"text-align: right;\">\n",
       "      <th></th>\n",
       "      <th>proba</th>\n",
       "      <th>class</th>\n",
       "    </tr>\n",
       "  </thead>\n",
       "  <tbody>\n",
       "    <tr>\n",
       "      <th>0</th>\n",
       "      <td>0.079263</td>\n",
       "      <td>1</td>\n",
       "    </tr>\n",
       "    <tr>\n",
       "      <th>1</th>\n",
       "      <td>0.029456</td>\n",
       "      <td>1</td>\n",
       "    </tr>\n",
       "    <tr>\n",
       "      <th>2</th>\n",
       "      <td>0.480355</td>\n",
       "      <td>1</td>\n",
       "    </tr>\n",
       "    <tr>\n",
       "      <th>3</th>\n",
       "      <td>0.768015</td>\n",
       "      <td>1</td>\n",
       "    </tr>\n",
       "    <tr>\n",
       "      <th>4</th>\n",
       "      <td>0.396633</td>\n",
       "      <td>1</td>\n",
       "    </tr>\n",
       "    <tr>\n",
       "      <th>...</th>\n",
       "      <td>...</td>\n",
       "      <td>...</td>\n",
       "    </tr>\n",
       "    <tr>\n",
       "      <th>4195</th>\n",
       "      <td>0.130819</td>\n",
       "      <td>1</td>\n",
       "    </tr>\n",
       "    <tr>\n",
       "      <th>4196</th>\n",
       "      <td>0.306902</td>\n",
       "      <td>1</td>\n",
       "    </tr>\n",
       "    <tr>\n",
       "      <th>4197</th>\n",
       "      <td>0.997462</td>\n",
       "      <td>1</td>\n",
       "    </tr>\n",
       "    <tr>\n",
       "      <th>4198</th>\n",
       "      <td>0.527805</td>\n",
       "      <td>1</td>\n",
       "    </tr>\n",
       "    <tr>\n",
       "      <th>4199</th>\n",
       "      <td>0.005911</td>\n",
       "      <td>1</td>\n",
       "    </tr>\n",
       "  </tbody>\n",
       "</table>\n",
       "<p>4200 rows × 2 columns</p>\n",
       "</div>"
      ],
      "text/plain": [
       "         proba  class\n",
       "0     0.079263      1\n",
       "1     0.029456      1\n",
       "2     0.480355      1\n",
       "3     0.768015      1\n",
       "4     0.396633      1\n",
       "...        ...    ...\n",
       "4195  0.130819      1\n",
       "4196  0.306902      1\n",
       "4197  0.997462      1\n",
       "4198  0.527805      1\n",
       "4199  0.005911      1\n",
       "\n",
       "[4200 rows x 2 columns]"
      ]
     },
     "execution_count": 10,
     "metadata": {},
     "output_type": "execute_result"
    }
   ],
   "source": [
    "df_scores"
   ]
  },
  {
   "cell_type": "code",
   "execution_count": null,
   "metadata": {},
   "outputs": [],
   "source": []
  },
  {
   "cell_type": "code",
   "execution_count": null,
   "metadata": {},
   "outputs": [],
   "source": []
  }
 ],
 "metadata": {
  "kernelspec": {
   "display_name": "Python 3",
   "language": "python",
   "name": "python3"
  },
  "language_info": {
   "codemirror_mode": {
    "name": "ipython",
    "version": 3
   },
   "file_extension": ".py",
   "mimetype": "text/x-python",
   "name": "python",
   "nbconvert_exporter": "python",
   "pygments_lexer": "ipython3",
   "version": "3.7.9"
  },
  "toc": {
   "base_numbering": 1,
   "nav_menu": {},
   "number_sections": true,
   "sideBar": true,
   "skip_h1_title": false,
   "title_cell": "Table of Contents",
   "title_sidebar": "Contents",
   "toc_cell": false,
   "toc_position": {},
   "toc_section_display": true,
   "toc_window_display": false
  }
 },
 "nbformat": 4,
 "nbformat_minor": 4
}
